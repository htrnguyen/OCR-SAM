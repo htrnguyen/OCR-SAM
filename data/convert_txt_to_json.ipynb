{
 "cells": [
  {
   "cell_type": "code",
   "execution_count": 2,
   "metadata": {},
   "outputs": [
    {
     "name": "stdout",
     "output_type": "stream",
     "text": [
      "Đã chuyển đổi thành công từ ./data_line/test_line_annotation.txt sang test_line_annotation.json\n"
     ]
    }
   ],
   "source": [
    "import json\n",
    "\n",
    "def convert_txt_to_json(input_file, output_file):\n",
    "    # Danh sách để lưu trữ dữ liệu\n",
    "    data = []\n",
    "    \n",
    "    # Đọc file txt\n",
    "    with open(input_file, 'r', encoding='utf-8') as f:\n",
    "        for line in f:\n",
    "            # Tách đường dẫn ảnh và văn bản\n",
    "            parts = line.strip().split('\\t')\n",
    "            \n",
    "            # Kiểm tra xem dòng có đúng định dạng không\n",
    "            if len(parts) == 2:\n",
    "                image_path = parts[0]\n",
    "                text = parts[1]\n",
    "                \n",
    "                # Tạo từ điển cho mỗi dòng\n",
    "                entry = {\n",
    "                    \"image_path\": image_path,\n",
    "                    \"text\": text\n",
    "                }\n",
    "                \n",
    "                data.append(entry)\n",
    "    \n",
    "    # Ghi ra file JSON\n",
    "    with open(output_file, 'w', encoding='utf-8') as f:\n",
    "        json.dump(data, f, ensure_ascii=False, indent=4)\n",
    "    \n",
    "    print(f\"Đã chuyển đổi thành công từ {input_file} sang {output_file}\")\n",
    "\n",
    "# Sử dụng hàm\n",
    "input_file = './data_line/test_line_annotation.txt'\n",
    "output_file = 'test_line_annotation.json'\n",
    "convert_txt_to_json(input_file, output_file)"
   ]
  }
 ],
 "metadata": {
  "kernelspec": {
   "display_name": "py310",
   "language": "python",
   "name": "python3"
  },
  "language_info": {
   "codemirror_mode": {
    "name": "ipython",
    "version": 3
   },
   "file_extension": ".py",
   "mimetype": "text/x-python",
   "name": "python",
   "nbconvert_exporter": "python",
   "pygments_lexer": "ipython3",
   "version": "3.10.15"
  }
 },
 "nbformat": 4,
 "nbformat_minor": 2
}
