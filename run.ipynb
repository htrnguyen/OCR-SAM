{
 "cells": [
  {
   "cell_type": "code",
   "execution_count": 1,
   "metadata": {},
   "outputs": [],
   "source": [
    "# import os\n",
    "# from PIL import Image\n",
    "# from pillow_heif import register_heif_opener\n",
    "# from PIL import ImageFile\n",
    "\n",
    "# # Cho phép xử lý tệp bị lỗi hoặc không đầy đủ\n",
    "# ImageFile.LOAD_TRUNCATED_IMAGES = True\n",
    "\n",
    "# # Đăng ký HEIF/HEIC opener với Pillow\n",
    "# register_heif_opener()\n",
    "\n",
    "# def convert_heic_to_png(heic_file, png_file):\n",
    "#     \"\"\"Chuyển đổi tệp HEIC sang PNG\"\"\"\n",
    "#     try:\n",
    "#         image = Image.open(heic_file)  # Mở tệp HEIC\n",
    "#         image.save(png_file, \"PNG\")   # Lưu dưới dạng PNG\n",
    "#         print(f\"Converted {heic_file} to {png_file}\")\n",
    "#     except Exception as e:\n",
    "#         print(f\"Failed to convert {heic_file}: {e}\")\n",
    "\n",
    "# # Thư mục chứa tệp HEIC\n",
    "# file_path = \"./DATA\"\n",
    "\n",
    "# # Duyệt qua tất cả các tệp trong thư mục\n",
    "# for file in os.listdir(file_path):\n",
    "#     if file.lower().endswith(\".heic\"):  # Kiểm tra đuôi tệp\n",
    "#         heic_file = os.path.join(file_path, file)\n",
    "#         png_file = os.path.splitext(heic_file)[0] + \".png\"\n",
    "\n",
    "#         # Kiểm tra nếu file PNG đã tồn tại\n",
    "#         if os.path.exists(png_file):\n",
    "#             print(f\"Skipping {file}, {png_file} already exists.\")\n",
    "#             continue\n",
    "\n",
    "#         # Chuyển đổi nếu file PNG chưa tồn tại\n",
    "#         convert_heic_to_png(heic_file, png_file)\n",
    "#     else:\n",
    "#         print(f\"Skipping {file}, not a HEIC file.\")\n",
    "\n",
    "# print(\"Done\")\n"
   ]
  },
  {
   "cell_type": "code",
   "execution_count": 2,
   "metadata": {},
   "outputs": [],
   "source": [
    "# !jupyter nbconvert --to script run.ipynb"
   ]
  },
  {
   "cell_type": "code",
   "execution_count": 3,
   "metadata": {},
   "outputs": [],
   "source": [
    "# !python mmocr_sam.py --inputs ./data/DataFood/IMG_3455.png --outdir ./OUTPUT --device cpu"
   ]
  },
  {
   "cell_type": "code",
   "execution_count": null,
   "metadata": {},
   "outputs": [
    {
     "name": "stderr",
     "output_type": "stream",
     "text": [
      "c:\\Users\\NGUYEN\\anaconda3\\envs\\py310\\lib\\site-packages\\tqdm\\auto.py:21: TqdmWarning: IProgress not found. Please update jupyter and ipywidgets. See https://ipywidgets.readthedocs.io/en/stable/user_install.html\n",
      "  from .autonotebook import tqdm as notebook_tqdm\n"
     ]
    }
   ],
   "source": [
    "import os\n",
    "import shutil\n",
    "import cv2\n",
    "import torch\n",
    "from mmocr.apis.inferencers import MMOCRInferencer\n",
    "import warnings\n",
    "warnings.filterwarnings(\"ignore\")"
   ]
  },
  {
   "cell_type": "code",
   "execution_count": 5,
   "metadata": {},
   "outputs": [],
   "source": [
    "# Hàm scale ảnh\n",
    "def scale_image(image, scale_factor):\n",
    "    \"\"\"Scale image by a given factor.\"\"\"\n",
    "    height, width = image.shape[:2]\n",
    "    new_width = int(width * scale_factor)\n",
    "    new_height = int(height * scale_factor)\n",
    "    scaled_image = cv2.resize(\n",
    "        image, (new_width, new_height), interpolation=cv2.INTER_LINEAR\n",
    "    )\n",
    "    return scaled_image"
   ]
  },
  {
   "cell_type": "code",
   "execution_count": 6,
   "metadata": {},
   "outputs": [],
   "source": [
    "# Hàm xử lý ảnh OCR\n",
    "def process_image(image_path, output_dir, mmocr_inferencer, scale_factor):\n",
    "    \"\"\"Process a single image using MMOCR and save results.\"\"\"\n",
    "    # Đọc ảnh\n",
    "    image = cv2.imread(image_path)\n",
    "    if image is None:\n",
    "        print(f\"Cannot read image: {image_path}\")\n",
    "        return\n",
    "\n",
    "    # Scale ảnh\n",
    "    scaled_image = scale_image(image, scale_factor)\n",
    "\n",
    "    # Thực hiện OCR\n",
    "    results = mmocr_inferencer(scaled_image, save_vis=True, out_dir=output_dir)\n",
    "\n",
    "    # Lấy kết quả văn bản\n",
    "    texts = []\n",
    "    for prediction in results[\"predictions\"]:\n",
    "        for text in prediction[\"rec_texts\"]:\n",
    "            texts.append(text)\n",
    "\n",
    "    # Ghi kết quả văn bản vào file txt\n",
    "    if texts:\n",
    "        output_text_file = os.path.join(\n",
    "            output_dir,\n",
    "            os.path.basename(image_path)\n",
    "            .replace(\".jpg\", \".txt\")\n",
    "            .replace(\".png\", \".txt\"),\n",
    "        )\n",
    "        with open(output_text_file, \"w\", encoding=\"utf-8\") as f:\n",
    "            f.write(\"\\n\".join(texts))\n",
    "        print(f\"Text saved to: {output_text_file}\")"
   ]
  },
  {
   "cell_type": "code",
   "execution_count": 7,
   "metadata": {},
   "outputs": [],
   "source": [
    "# Xóa dữ liệu cũ trong thư mục OUTPUT\n",
    "def prepare_output_dir(output_dir):\n",
    "    \"\"\"Clear old output directory and create a new one.\"\"\"\n",
    "    if os.path.exists(output_dir):\n",
    "        shutil.rmtree(output_dir)\n",
    "    os.makedirs(output_dir, exist_ok=True)"
   ]
  },
  {
   "cell_type": "code",
   "execution_count": 14,
   "metadata": {},
   "outputs": [],
   "source": [
    "# Hàm chính để xử lý tất cả ảnh trong thư mục\n",
    "def process_all_images(input_dir, output_dir, mmocr_inferencer, scale_factor):\n",
    "    \"\"\"Process all images in a directory.\"\"\"\n",
    "    # Chuẩn bị thư mục output\n",
    "    prepare_output_dir(output_dir)\n",
    "\n",
    "    # Danh sách file ảnh\n",
    "    image_files = [\n",
    "        os.path.join(input_dir, f)\n",
    "        for f in os.listdir(input_dir)\n",
    "        if f.endswith((\".jpg\", \".png\"))\n",
    "    ]\n",
    "\n",
    "    for image_file in image_files:\n",
    "        if not os.path.exists(image_file):\n",
    "            print(f\"File not found: {image_file}\")\n",
    "            continue\n",
    "        \n",
    "        # if len(os.listdir(output_dir)) >= 5:\n",
    "        #     break\n",
    "        \n",
    "        process_image(image_file, output_dir, mmocr_inferencer, scale_factor)\n",
    "\n",
    "    print(\"Processing complete. Results saved in:\", output_dir)"
   ]
  },
  {
   "cell_type": "code",
   "execution_count": 16,
   "metadata": {},
   "outputs": [
    {
     "name": "stdout",
     "output_type": "stream",
     "text": [
      "Loads checkpoint by local backend from path: checkpoints/mmocr/db_swin_mix_pretrain.pth\n",
      "11/28 17:19:43 - mmengine - \u001b[4m\u001b[97mINFO\u001b[0m - Delete `relative_position_index` and `relative_coords_table` since we always re-init these params according to the `window_size`, which might cause unwanted but unworried warnings when loading checkpoint.\n",
      "The model and loaded state dict do not match exactly\n",
      "\n",
      "missing keys in source state_dict: backbone.stages.0.blocks.0.attn.w_msa.relative_coords_table, backbone.stages.0.blocks.0.attn.w_msa.relative_position_index, backbone.stages.0.blocks.1.attn.w_msa.relative_coords_table, backbone.stages.0.blocks.1.attn.w_msa.relative_position_index, backbone.stages.1.blocks.0.attn.w_msa.relative_coords_table, backbone.stages.1.blocks.0.attn.w_msa.relative_position_index, backbone.stages.1.blocks.1.attn.w_msa.relative_coords_table, backbone.stages.1.blocks.1.attn.w_msa.relative_position_index, backbone.stages.2.blocks.0.attn.w_msa.relative_coords_table, backbone.stages.2.blocks.0.attn.w_msa.relative_position_index, backbone.stages.2.blocks.1.attn.w_msa.relative_coords_table, backbone.stages.2.blocks.1.attn.w_msa.relative_position_index, backbone.stages.2.blocks.2.attn.w_msa.relative_coords_table, backbone.stages.2.blocks.2.attn.w_msa.relative_position_index, backbone.stages.2.blocks.3.attn.w_msa.relative_coords_table, backbone.stages.2.blocks.3.attn.w_msa.relative_position_index, backbone.stages.2.blocks.4.attn.w_msa.relative_coords_table, backbone.stages.2.blocks.4.attn.w_msa.relative_position_index, backbone.stages.2.blocks.5.attn.w_msa.relative_coords_table, backbone.stages.2.blocks.5.attn.w_msa.relative_position_index, backbone.stages.2.blocks.6.attn.w_msa.relative_coords_table, backbone.stages.2.blocks.6.attn.w_msa.relative_position_index, backbone.stages.2.blocks.7.attn.w_msa.relative_coords_table, backbone.stages.2.blocks.7.attn.w_msa.relative_position_index, backbone.stages.2.blocks.8.attn.w_msa.relative_coords_table, backbone.stages.2.blocks.8.attn.w_msa.relative_position_index, backbone.stages.2.blocks.9.attn.w_msa.relative_coords_table, backbone.stages.2.blocks.9.attn.w_msa.relative_position_index, backbone.stages.2.blocks.10.attn.w_msa.relative_coords_table, backbone.stages.2.blocks.10.attn.w_msa.relative_position_index, backbone.stages.2.blocks.11.attn.w_msa.relative_coords_table, backbone.stages.2.blocks.11.attn.w_msa.relative_position_index, backbone.stages.2.blocks.12.attn.w_msa.relative_coords_table, backbone.stages.2.blocks.12.attn.w_msa.relative_position_index, backbone.stages.2.blocks.13.attn.w_msa.relative_coords_table, backbone.stages.2.blocks.13.attn.w_msa.relative_position_index, backbone.stages.2.blocks.14.attn.w_msa.relative_coords_table, backbone.stages.2.blocks.14.attn.w_msa.relative_position_index, backbone.stages.2.blocks.15.attn.w_msa.relative_coords_table, backbone.stages.2.blocks.15.attn.w_msa.relative_position_index, backbone.stages.2.blocks.16.attn.w_msa.relative_coords_table, backbone.stages.2.blocks.16.attn.w_msa.relative_position_index, backbone.stages.2.blocks.17.attn.w_msa.relative_coords_table, backbone.stages.2.blocks.17.attn.w_msa.relative_position_index, backbone.stages.3.blocks.0.attn.w_msa.relative_coords_table, backbone.stages.3.blocks.0.attn.w_msa.relative_position_index, backbone.stages.3.blocks.1.attn.w_msa.relative_coords_table, backbone.stages.3.blocks.1.attn.w_msa.relative_position_index\n",
      "\n",
      "Loads checkpoint by local backend from path: checkpoints/mmocr/abinet_20e_st-an_mj_20221005_012617-ead8c139.pth\n",
      "The model and loaded state dict do not match exactly\n",
      "\n",
      "unexpected key in source state_dict: data_preprocessor.mean, data_preprocessor.std\n",
      "\n"
     ]
    }
   ],
   "source": [
    "# Cấu hình MMOCR Inferencer\n",
    "DEVICE = \"cuda\" if torch.cuda.is_available() else \"cpu\"\n",
    "mmocr_inferencer = MMOCRInferencer(\n",
    "    det=\"mmocr_dev/configs/textdet/dbnetpp/dbnetpp_swinv2_base_w16_in21k.py\",\n",
    "    det_weights=\"checkpoints/mmocr/db_swin_mix_pretrain.pth\",\n",
    "    rec=\"mmocr_dev/configs/textrecog/abinet/abinet_20e_st-an_mj.py\",\n",
    "    rec_weights=\"checkpoints/mmocr/abinet_20e_st-an_mj_20221005_012617-ead8c139.pth\",\n",
    "    device=DEVICE,\n",
    ")"
   ]
  },
  {
   "cell_type": "code",
   "execution_count": 17,
   "metadata": {},
   "outputs": [],
   "source": [
    "# Cấu hình thư mục và mô hình\n",
    "INPUT_DIR = \"./data/Test\"  # Thư mục chứa ảnh đầu vào\n",
    "OUTPUT_DIR = \"./OUTPUT\"  # Thư mục lưu kết quả\n",
    "SCALE_FACTOR = 1.5  # Hệ số scale ảnh\n"
   ]
  },
  {
   "cell_type": "code",
   "execution_count": 18,
   "metadata": {},
   "outputs": [
    {
     "data": {
      "text/html": [
       "<pre style=\"white-space:pre;overflow-x:auto;line-height:normal;font-family:Menlo,'DejaVu Sans Mono',consolas,'Courier New',monospace\">\n",
       "</pre>\n"
      ],
      "text/plain": [
       "\n"
      ]
     },
     "metadata": {},
     "output_type": "display_data"
    },
    {
     "data": {
      "text/html": [
       "<pre style=\"white-space:pre;overflow-x:auto;line-height:normal;font-family:Menlo,'DejaVu Sans Mono',consolas,'Courier New',monospace\">\n",
       "</pre>\n"
      ],
      "text/plain": [
       "\n"
      ]
     },
     "metadata": {},
     "output_type": "display_data"
    },
    {
     "data": {
      "text/html": [
       "<pre style=\"white-space:pre;overflow-x:auto;line-height:normal;font-family:Menlo,'DejaVu Sans Mono',consolas,'Courier New',monospace\"></pre>\n"
      ],
      "text/plain": []
     },
     "metadata": {},
     "output_type": "display_data"
    },
    {
     "data": {
      "text/html": [
       "<pre style=\"white-space:pre;overflow-x:auto;line-height:normal;font-family:Menlo,'DejaVu Sans Mono',consolas,'Courier New',monospace\">\n",
       "</pre>\n"
      ],
      "text/plain": [
       "\n"
      ]
     },
     "metadata": {},
     "output_type": "display_data"
    },
    {
     "name": "stdout",
     "output_type": "stream",
     "text": [
      "Text saved to: ./OUTPUT\\IMG_3464.txt\n"
     ]
    },
    {
     "data": {
      "text/html": [
       "<pre style=\"white-space:pre;overflow-x:auto;line-height:normal;font-family:Menlo,'DejaVu Sans Mono',consolas,'Courier New',monospace\">\n",
       "</pre>\n"
      ],
      "text/plain": [
       "\n"
      ]
     },
     "metadata": {},
     "output_type": "display_data"
    },
    {
     "data": {
      "text/html": [
       "<pre style=\"white-space:pre;overflow-x:auto;line-height:normal;font-family:Menlo,'DejaVu Sans Mono',consolas,'Courier New',monospace\">\n",
       "</pre>\n"
      ],
      "text/plain": [
       "\n"
      ]
     },
     "metadata": {},
     "output_type": "display_data"
    },
    {
     "data": {
      "text/html": [
       "<pre style=\"white-space:pre;overflow-x:auto;line-height:normal;font-family:Menlo,'DejaVu Sans Mono',consolas,'Courier New',monospace\"></pre>\n"
      ],
      "text/plain": []
     },
     "metadata": {},
     "output_type": "display_data"
    },
    {
     "data": {
      "text/html": [
       "<pre style=\"white-space:pre;overflow-x:auto;line-height:normal;font-family:Menlo,'DejaVu Sans Mono',consolas,'Courier New',monospace\">\n",
       "</pre>\n"
      ],
      "text/plain": [
       "\n"
      ]
     },
     "metadata": {},
     "output_type": "display_data"
    },
    {
     "name": "stdout",
     "output_type": "stream",
     "text": [
      "Text saved to: ./OUTPUT\\IMG_3465.txt\n"
     ]
    },
    {
     "data": {
      "text/html": [
       "<pre style=\"white-space:pre;overflow-x:auto;line-height:normal;font-family:Menlo,'DejaVu Sans Mono',consolas,'Courier New',monospace\">\n",
       "</pre>\n"
      ],
      "text/plain": [
       "\n"
      ]
     },
     "metadata": {},
     "output_type": "display_data"
    },
    {
     "data": {
      "text/html": [
       "<pre style=\"white-space:pre;overflow-x:auto;line-height:normal;font-family:Menlo,'DejaVu Sans Mono',consolas,'Courier New',monospace\">\n",
       "</pre>\n"
      ],
      "text/plain": [
       "\n"
      ]
     },
     "metadata": {},
     "output_type": "display_data"
    },
    {
     "data": {
      "text/html": [
       "<pre style=\"white-space:pre;overflow-x:auto;line-height:normal;font-family:Menlo,'DejaVu Sans Mono',consolas,'Courier New',monospace\"></pre>\n"
      ],
      "text/plain": []
     },
     "metadata": {},
     "output_type": "display_data"
    },
    {
     "data": {
      "text/html": [
       "<pre style=\"white-space:pre;overflow-x:auto;line-height:normal;font-family:Menlo,'DejaVu Sans Mono',consolas,'Courier New',monospace\">\n",
       "</pre>\n"
      ],
      "text/plain": [
       "\n"
      ]
     },
     "metadata": {},
     "output_type": "display_data"
    },
    {
     "name": "stdout",
     "output_type": "stream",
     "text": [
      "Text saved to: ./OUTPUT\\IMG_3466.txt\n"
     ]
    },
    {
     "data": {
      "text/html": [
       "<pre style=\"white-space:pre;overflow-x:auto;line-height:normal;font-family:Menlo,'DejaVu Sans Mono',consolas,'Courier New',monospace\">\n",
       "</pre>\n"
      ],
      "text/plain": [
       "\n"
      ]
     },
     "metadata": {},
     "output_type": "display_data"
    },
    {
     "data": {
      "text/html": [
       "<pre style=\"white-space:pre;overflow-x:auto;line-height:normal;font-family:Menlo,'DejaVu Sans Mono',consolas,'Courier New',monospace\">\n",
       "</pre>\n"
      ],
      "text/plain": [
       "\n"
      ]
     },
     "metadata": {},
     "output_type": "display_data"
    },
    {
     "data": {
      "text/html": [
       "<pre style=\"white-space:pre;overflow-x:auto;line-height:normal;font-family:Menlo,'DejaVu Sans Mono',consolas,'Courier New',monospace\"></pre>\n"
      ],
      "text/plain": []
     },
     "metadata": {},
     "output_type": "display_data"
    },
    {
     "data": {
      "text/html": [
       "<pre style=\"white-space:pre;overflow-x:auto;line-height:normal;font-family:Menlo,'DejaVu Sans Mono',consolas,'Courier New',monospace\">\n",
       "</pre>\n"
      ],
      "text/plain": [
       "\n"
      ]
     },
     "metadata": {},
     "output_type": "display_data"
    },
    {
     "name": "stdout",
     "output_type": "stream",
     "text": [
      "Text saved to: ./OUTPUT\\IMG_3467.txt\n",
      "Processing complete. Results saved in: ./OUTPUT\n"
     ]
    }
   ],
   "source": [
    "process_all_images(INPUT_DIR, OUTPUT_DIR, mmocr_inferencer, SCALE_FACTOR)"
   ]
  }
 ],
 "metadata": {
  "kernelspec": {
   "display_name": "py310",
   "language": "python",
   "name": "python3"
  },
  "language_info": {
   "codemirror_mode": {
    "name": "ipython",
    "version": 3
   },
   "file_extension": ".py",
   "mimetype": "text/x-python",
   "name": "python",
   "nbconvert_exporter": "python",
   "pygments_lexer": "ipython3",
   "version": "3.10.15"
  }
 },
 "nbformat": 4,
 "nbformat_minor": 2
}
