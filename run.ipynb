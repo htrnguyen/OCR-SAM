{
 "cells": [
  {
   "cell_type": "code",
   "execution_count": 2,
   "metadata": {},
   "outputs": [],
   "source": [
    "# import os\n",
    "# from PIL import Image\n",
    "# from pillow_heif import register_heif_opener\n",
    "# from PIL import ImageFile\n",
    "\n",
    "# # Cho phép xử lý tệp bị lỗi hoặc không đầy đủ\n",
    "# ImageFile.LOAD_TRUNCATED_IMAGES = True\n",
    "\n",
    "# # Đăng ký HEIF/HEIC opener với Pillow\n",
    "# register_heif_opener()\n",
    "\n",
    "# def convert_heic_to_png(heic_file, png_file):\n",
    "#     \"\"\"Chuyển đổi tệp HEIC sang PNG\"\"\"\n",
    "#     try:\n",
    "#         image = Image.open(heic_file)  # Mở tệp HEIC\n",
    "#         image.save(png_file, \"PNG\")   # Lưu dưới dạng PNG\n",
    "#         print(f\"Converted {heic_file} to {png_file}\")\n",
    "#     except Exception as e:\n",
    "#         print(f\"Failed to convert {heic_file}: {e}\")\n",
    "\n",
    "# # Thư mục chứa tệp HEIC\n",
    "# file_path = \"./DATA\"\n",
    "\n",
    "# # Duyệt qua tất cả các tệp trong thư mục\n",
    "# for file in os.listdir(file_path):\n",
    "#     if file.lower().endswith(\".heic\"):  # Kiểm tra đuôi tệp\n",
    "#         heic_file = os.path.join(file_path, file)\n",
    "#         png_file = os.path.splitext(heic_file)[0] + \".png\"\n",
    "\n",
    "#         # Kiểm tra nếu file PNG đã tồn tại\n",
    "#         if os.path.exists(png_file):\n",
    "#             print(f\"Skipping {file}, {png_file} already exists.\")\n",
    "#             continue\n",
    "\n",
    "#         # Chuyển đổi nếu file PNG chưa tồn tại\n",
    "#         convert_heic_to_png(heic_file, png_file)\n",
    "#     else:\n",
    "#         print(f\"Skipping {file}, not a HEIC file.\")\n",
    "\n",
    "# print(\"Done\")\n"
   ]
  },
  {
   "cell_type": "code",
   "execution_count": 2,
   "metadata": {},
   "outputs": [],
   "source": [
    "import os\n",
    "import cv2\n",
    "import numpy as np\n",
    "import torch\n",
    "import shutil\n",
    "from mmocr.apis.inferencers import MMOCRInferencer\n",
    "from mmocr.utils import poly2bbox\n",
    "\n",
    "import warnings\n",
    "warnings.filterwarnings(\"ignore\")\n"
   ]
  },
  {
   "cell_type": "code",
   "execution_count": 3,
   "metadata": {},
   "outputs": [],
   "source": [
    "# Cấu hình\n",
    "input_dir = \"./DATA\"  # Thư mục chứa ảnh sản phẩm\n",
    "output_dir = \"./output/\"  # Thư mục lưu kết quả\n",
    "os.makedirs(output_dir, exist_ok=True)"
   ]
  },
  {
   "cell_type": "code",
   "execution_count": 4,
   "metadata": {},
   "outputs": [
    {
     "name": "stdout",
     "output_type": "stream",
     "text": [
      "Loads checkpoint by local backend from path: checkpoints/mmocr/db_swin_mix_pretrain.pth\n",
      "11/20 11:07:02 - mmengine - \u001b[4m\u001b[97mINFO\u001b[0m - Delete `relative_position_index` and `relative_coords_table` since we always re-init these params according to the `window_size`, which might cause unwanted but unworried warnings when loading checkpoint.\n",
      "The model and loaded state dict do not match exactly\n",
      "\n",
      "missing keys in source state_dict: backbone.stages.0.blocks.0.attn.w_msa.relative_coords_table, backbone.stages.0.blocks.0.attn.w_msa.relative_position_index, backbone.stages.0.blocks.1.attn.w_msa.relative_coords_table, backbone.stages.0.blocks.1.attn.w_msa.relative_position_index, backbone.stages.1.blocks.0.attn.w_msa.relative_coords_table, backbone.stages.1.blocks.0.attn.w_msa.relative_position_index, backbone.stages.1.blocks.1.attn.w_msa.relative_coords_table, backbone.stages.1.blocks.1.attn.w_msa.relative_position_index, backbone.stages.2.blocks.0.attn.w_msa.relative_coords_table, backbone.stages.2.blocks.0.attn.w_msa.relative_position_index, backbone.stages.2.blocks.1.attn.w_msa.relative_coords_table, backbone.stages.2.blocks.1.attn.w_msa.relative_position_index, backbone.stages.2.blocks.2.attn.w_msa.relative_coords_table, backbone.stages.2.blocks.2.attn.w_msa.relative_position_index, backbone.stages.2.blocks.3.attn.w_msa.relative_coords_table, backbone.stages.2.blocks.3.attn.w_msa.relative_position_index, backbone.stages.2.blocks.4.attn.w_msa.relative_coords_table, backbone.stages.2.blocks.4.attn.w_msa.relative_position_index, backbone.stages.2.blocks.5.attn.w_msa.relative_coords_table, backbone.stages.2.blocks.5.attn.w_msa.relative_position_index, backbone.stages.2.blocks.6.attn.w_msa.relative_coords_table, backbone.stages.2.blocks.6.attn.w_msa.relative_position_index, backbone.stages.2.blocks.7.attn.w_msa.relative_coords_table, backbone.stages.2.blocks.7.attn.w_msa.relative_position_index, backbone.stages.2.blocks.8.attn.w_msa.relative_coords_table, backbone.stages.2.blocks.8.attn.w_msa.relative_position_index, backbone.stages.2.blocks.9.attn.w_msa.relative_coords_table, backbone.stages.2.blocks.9.attn.w_msa.relative_position_index, backbone.stages.2.blocks.10.attn.w_msa.relative_coords_table, backbone.stages.2.blocks.10.attn.w_msa.relative_position_index, backbone.stages.2.blocks.11.attn.w_msa.relative_coords_table, backbone.stages.2.blocks.11.attn.w_msa.relative_position_index, backbone.stages.2.blocks.12.attn.w_msa.relative_coords_table, backbone.stages.2.blocks.12.attn.w_msa.relative_position_index, backbone.stages.2.blocks.13.attn.w_msa.relative_coords_table, backbone.stages.2.blocks.13.attn.w_msa.relative_position_index, backbone.stages.2.blocks.14.attn.w_msa.relative_coords_table, backbone.stages.2.blocks.14.attn.w_msa.relative_position_index, backbone.stages.2.blocks.15.attn.w_msa.relative_coords_table, backbone.stages.2.blocks.15.attn.w_msa.relative_position_index, backbone.stages.2.blocks.16.attn.w_msa.relative_coords_table, backbone.stages.2.blocks.16.attn.w_msa.relative_position_index, backbone.stages.2.blocks.17.attn.w_msa.relative_coords_table, backbone.stages.2.blocks.17.attn.w_msa.relative_position_index, backbone.stages.3.blocks.0.attn.w_msa.relative_coords_table, backbone.stages.3.blocks.0.attn.w_msa.relative_position_index, backbone.stages.3.blocks.1.attn.w_msa.relative_coords_table, backbone.stages.3.blocks.1.attn.w_msa.relative_position_index\n",
      "\n",
      "11/20 11:07:06 - mmengine - \u001b[5m\u001b[4m\u001b[33mWARNING\u001b[0m - Failed to search registry with scope \"mmocr\" in the \"function\" registry tree. As a workaround, the current \"function\" registry in \"mmengine\" is used to build instance. This may cause unexpected failure when running the built modules. Please check whether \"mmocr\" is a correct scope, or whether the registry is initialized.\n",
      "Loads checkpoint by local backend from path: checkpoints/mmocr/abinet_20e_st-an_mj_20221005_012617-ead8c139.pth\n",
      "The model and loaded state dict do not match exactly\n",
      "\n",
      "unexpected key in source state_dict: data_preprocessor.mean, data_preprocessor.std\n",
      "\n",
      "MMOCR Inferencer initialized successfully.\n"
     ]
    }
   ],
   "source": [
    "# Khởi tạo MMOCR Inferencer\n",
    "mmocr_inferencer = MMOCRInferencer(\n",
    "    det=\"mmocr_dev/configs/textdet/dbnetpp/dbnetpp_swinv2_base_w16_in21k.py\",  # Mô hình phát hiện\n",
    "    det_weights=\"checkpoints/mmocr/db_swin_mix_pretrain.pth\",  # Checkpoint phát hiện\n",
    "    rec=\"mmocr_dev/configs/textrecog/abinet/abinet_20e_st-an_mj.py\",  # Mô hình nhận dạng\n",
    "    rec_weights=\"checkpoints/mmocr/abinet_20e_st-an_mj_20221005_012617-ead8c139.pth\",  # Checkpoint nhận dạng\n",
    "    device=\"cpu\",  # Hoặc \"cuda\" nếu bạn có GPU\n",
    ")\n",
    "print(\"MMOCR Inferencer initialized successfully.\")\n"
   ]
  },
  {
   "cell_type": "code",
   "execution_count": 5,
   "metadata": {},
   "outputs": [
    {
     "name": "stdout",
     "output_type": "stream",
     "text": [
      "Processing: ./DATA\\IMG_3455.png\n"
     ]
    },
    {
     "data": {
      "text/html": [
       "<pre style=\"white-space:pre;overflow-x:auto;line-height:normal;font-family:Menlo,'DejaVu Sans Mono',consolas,'Courier New',monospace\">\n",
       "</pre>\n"
      ],
      "text/plain": [
       "\n"
      ]
     },
     "metadata": {},
     "output_type": "display_data"
    },
    {
     "data": {
      "text/html": [
       "<pre style=\"white-space:pre;overflow-x:auto;line-height:normal;font-family:Menlo,'DejaVu Sans Mono',consolas,'Courier New',monospace\">\n",
       "</pre>\n"
      ],
      "text/plain": [
       "\n"
      ]
     },
     "metadata": {},
     "output_type": "display_data"
    },
    {
     "data": {
      "text/html": [
       "<pre style=\"white-space:pre;overflow-x:auto;line-height:normal;font-family:Menlo,'DejaVu Sans Mono',consolas,'Courier New',monospace\"></pre>\n"
      ],
      "text/plain": []
     },
     "metadata": {},
     "output_type": "display_data"
    },
    {
     "data": {
      "text/html": [
       "<pre style=\"white-space:pre;overflow-x:auto;line-height:normal;font-family:Menlo,'DejaVu Sans Mono',consolas,'Courier New',monospace\">\n",
       "</pre>\n"
      ],
      "text/plain": [
       "\n"
      ]
     },
     "metadata": {},
     "output_type": "display_data"
    },
    {
     "name": "stdout",
     "output_type": "stream",
     "text": [
      "Extracted texts saved to: ./output/IMG_3455.txt\n",
      "Processing: ./DATA\\IMG_3456.png\n"
     ]
    },
    {
     "data": {
      "text/html": [
       "<pre style=\"white-space:pre;overflow-x:auto;line-height:normal;font-family:Menlo,'DejaVu Sans Mono',consolas,'Courier New',monospace\">\n",
       "</pre>\n"
      ],
      "text/plain": [
       "\n"
      ]
     },
     "metadata": {},
     "output_type": "display_data"
    },
    {
     "data": {
      "text/html": [
       "<pre style=\"white-space:pre;overflow-x:auto;line-height:normal;font-family:Menlo,'DejaVu Sans Mono',consolas,'Courier New',monospace\">\n",
       "</pre>\n"
      ],
      "text/plain": [
       "\n"
      ]
     },
     "metadata": {},
     "output_type": "display_data"
    },
    {
     "data": {
      "text/html": [
       "<pre style=\"white-space:pre;overflow-x:auto;line-height:normal;font-family:Menlo,'DejaVu Sans Mono',consolas,'Courier New',monospace\"></pre>\n"
      ],
      "text/plain": []
     },
     "metadata": {},
     "output_type": "display_data"
    },
    {
     "data": {
      "text/html": [
       "<pre style=\"white-space:pre;overflow-x:auto;line-height:normal;font-family:Menlo,'DejaVu Sans Mono',consolas,'Courier New',monospace\">\n",
       "</pre>\n"
      ],
      "text/plain": [
       "\n"
      ]
     },
     "metadata": {},
     "output_type": "display_data"
    },
    {
     "name": "stdout",
     "output_type": "stream",
     "text": [
      "Extracted texts saved to: ./output/IMG_3456.txt\n",
      "Processing: ./DATA\\IMG_3457.png\n"
     ]
    },
    {
     "data": {
      "text/html": [
       "<pre style=\"white-space:pre;overflow-x:auto;line-height:normal;font-family:Menlo,'DejaVu Sans Mono',consolas,'Courier New',monospace\">\n",
       "</pre>\n"
      ],
      "text/plain": [
       "\n"
      ]
     },
     "metadata": {},
     "output_type": "display_data"
    },
    {
     "data": {
      "text/html": [
       "<pre style=\"white-space:pre;overflow-x:auto;line-height:normal;font-family:Menlo,'DejaVu Sans Mono',consolas,'Courier New',monospace\">\n",
       "</pre>\n"
      ],
      "text/plain": [
       "\n"
      ]
     },
     "metadata": {},
     "output_type": "display_data"
    },
    {
     "data": {
      "text/html": [
       "<pre style=\"white-space:pre;overflow-x:auto;line-height:normal;font-family:Menlo,'DejaVu Sans Mono',consolas,'Courier New',monospace\"></pre>\n"
      ],
      "text/plain": []
     },
     "metadata": {},
     "output_type": "display_data"
    },
    {
     "data": {
      "text/html": [
       "<pre style=\"white-space:pre;overflow-x:auto;line-height:normal;font-family:Menlo,'DejaVu Sans Mono',consolas,'Courier New',monospace\">\n",
       "</pre>\n"
      ],
      "text/plain": [
       "\n"
      ]
     },
     "metadata": {},
     "output_type": "display_data"
    },
    {
     "name": "stdout",
     "output_type": "stream",
     "text": [
      "Extracted texts saved to: ./output/IMG_3457.txt\n",
      "Processing: ./DATA\\IMG_3458.png\n"
     ]
    },
    {
     "data": {
      "text/html": [
       "<pre style=\"white-space:pre;overflow-x:auto;line-height:normal;font-family:Menlo,'DejaVu Sans Mono',consolas,'Courier New',monospace\">\n",
       "</pre>\n"
      ],
      "text/plain": [
       "\n"
      ]
     },
     "metadata": {},
     "output_type": "display_data"
    },
    {
     "data": {
      "text/html": [
       "<pre style=\"white-space:pre;overflow-x:auto;line-height:normal;font-family:Menlo,'DejaVu Sans Mono',consolas,'Courier New',monospace\">\n",
       "</pre>\n"
      ],
      "text/plain": [
       "\n"
      ]
     },
     "metadata": {},
     "output_type": "display_data"
    },
    {
     "data": {
      "text/html": [
       "<pre style=\"white-space:pre;overflow-x:auto;line-height:normal;font-family:Menlo,'DejaVu Sans Mono',consolas,'Courier New',monospace\"></pre>\n"
      ],
      "text/plain": []
     },
     "metadata": {},
     "output_type": "display_data"
    },
    {
     "data": {
      "text/html": [
       "<pre style=\"white-space:pre;overflow-x:auto;line-height:normal;font-family:Menlo,'DejaVu Sans Mono',consolas,'Courier New',monospace\">\n",
       "</pre>\n"
      ],
      "text/plain": [
       "\n"
      ]
     },
     "metadata": {},
     "output_type": "display_data"
    },
    {
     "name": "stdout",
     "output_type": "stream",
     "text": [
      "Extracted texts saved to: ./output/IMG_3458.txt\n"
     ]
    }
   ],
   "source": [
    "# Hàm trích xuất văn bản từ ảnh và lưu vào thư mục đầu ra\n",
    "def extract_text(image_path, output_dir, mmocr_inferencer):\n",
    "    # Chạy inference và lưu ảnh đã xử lý vào output_dir\n",
    "    print(f\"Processing: {image_path}\")\n",
    "    results = mmocr_inferencer(image_path, save_vis=True, out_dir=output_dir)\n",
    "\n",
    "    # Lấy kết quả văn bản từ mô hình\n",
    "    texts = []\n",
    "    for prediction in results[\"predictions\"]:\n",
    "        for text in prediction[\"rec_texts\"]:\n",
    "            texts.append(text)\n",
    "\n",
    "    # Tạo tên file .txt dựa trên tên ảnh gốc\n",
    "    output_text_file = os.path.join(\n",
    "        output_dir,\n",
    "        os.path.basename(image_path).replace(\".jpg\", \".txt\").replace(\".png\", \".txt\"),\n",
    "    )\n",
    "\n",
    "    # Lưu file văn bản vào thư mục đầu ra\n",
    "    with open(output_text_file, \"w\", encoding=\"utf-8\") as f:\n",
    "        f.write(\"\\n\".join(texts))\n",
    "\n",
    "    print(f\"Extracted texts saved to: {output_text_file}\")\n",
    "    return texts\n",
    "\n",
    "\n",
    "# Chạy trên tất cả ảnh trong thư mục đầu vào và lưu vào thư mục đầu ra\n",
    "image_files = [\n",
    "    os.path.join(input_dir, f)\n",
    "    for f in os.listdir(input_dir)\n",
    "    if f.endswith((\".jpg\", \".png\"))\n",
    "]\n",
    "\n",
    "# Xoá tất cả file trong thư mục đầu ra\n",
    "for f in os.listdir(output_dir):\n",
    "    file_path = os.path.join(output_dir, f)\n",
    "    if os.path.isfile(file_path) or os.path.islink(file_path):\n",
    "        os.remove(file_path)\n",
    "    elif os.path.isdir(file_path):\n",
    "        shutil.rmtree(file_path)\n",
    "\n",
    "for image_file in image_files:\n",
    "    # Chỉ xử lý 5 ảnh đầu tiên\n",
    "    if len(os.listdir(output_dir)) >= 5:\n",
    "        break\n",
    "    extract_text(image_file, output_dir, mmocr_inferencer)"
   ]
  }
 ],
 "metadata": {
  "kernelspec": {
   "display_name": "py310",
   "language": "python",
   "name": "python3"
  },
  "language_info": {
   "codemirror_mode": {
    "name": "ipython",
    "version": 3
   },
   "file_extension": ".py",
   "mimetype": "text/x-python",
   "name": "python",
   "nbconvert_exporter": "python",
   "pygments_lexer": "ipython3",
   "version": "3.10.15"
  }
 },
 "nbformat": 4,
 "nbformat_minor": 2
}
